{
  "nbformat": 4,
  "nbformat_minor": 0,
  "metadata": {
    "colab": {
      "name": "Analisando a Violência no Rio de Janeirob.ipynb",
      "provenance": [],
      "collapsed_sections": [],
      "include_colab_link": true
    },
    "kernelspec": {
      "name": "python3",
      "display_name": "Python 3"
    }
  },
  "cells": [
    {
      "cell_type": "markdown",
      "metadata": {
        "id": "view-in-github",
        "colab_type": "text"
      },
      "source": [
        "<a href=\"https://colab.research.google.com/github/PatriciaBonert/OsloAirbnb/blob/master/Analisando_a_Viol%C3%AAncia_no_Rio_de_Janeirob.ipynb\" target=\"_parent\"><img src=\"https://colab.research.google.com/assets/colab-badge.svg\" alt=\"Open In Colab\"/></a>"
      ]
    },
    {
      "cell_type": "markdown",
      "metadata": {
        "id": "-eFQZydM9O9J",
        "colab_type": "text"
      },
      "source": [
        "---\n",
        "\n",
        "**Instruções para o Projeto**\n",
        "\n",
        "* Você deve importar o pandas e importar a base de dados da Polícia Militar do Rio de Janeiro sobre a violência\n",
        "  * O arquivo `csv` se encontra no endereço abaixo:\n",
        "    * https://raw.githubusercontent.com/carlosfab/curso_data_science_na_pratica/master/modulo_02/violencia_rio.csv\n",
        "  * Este arquivo `csv` foi pré-processado minimamente por mim, para focar nos pontos aprendidos neste Módulo\n",
        "  * Este é o site oficial, do Governo do Estado do Rio de Janeiro:\n",
        "    * http://www.ispdados.rj.gov.br/estatistica.html\n",
        "  * Um *dashboard* interativo e visual pode ser encontrado no site abaixo:\n",
        "    * http://www.ispvisualizacao.rj.gov.br/index.html\n",
        "  * Você está livre para apagar, alterar e acrescentar o que quiser!\n",
        "  * Se você sentiu dificuldade, não se preocupe! Disponibilizei a minha própria solução para servir de guia, porém tente fazer a sua por você mesmo inicialmente.\n",
        "    * Se sentir perdido é normal, mas acredite: O seu cérebro vai começar a adquirir uma capacidade nova de pensar em hipóteses e questionar dados.\n",
        "  \n",
        "  \n",
        "---\n",
        "  "
      ]
    },
    {
      "cell_type": "markdown",
      "metadata": {
        "id": "kLI0gJtzDGuQ",
        "colab_type": "text"
      },
      "source": [
        "<center><img src=\"http://sigmoidal.ai/wp-content/uploads/2019/08/logo_color.png\" height=\"40px\"></center>\n",
        "\n",
        "# Analisando a Violência no Rio de Janeiro\n",
        "\n",
        "A violência urbana é responsável pela queda na qualidade de vida dos cidadãos nas maiores cidades do país, trazendo inúmeros prejuízos para todos. Um dos principais fatores do aumento da violência urbana é, justamente, o crescimento desordenado das cidades, incapaz de fornecer iguais condições de vida para todos. O resultado desse crescimento é a criação de áreas periféricas cada vez maiores e desorganizadas, nas quais o poder público não consegue ou não demonstra interesse em oferecer serviços mais básicos para a população.\n",
        "\n",
        "No Rio de Janeiro, o sociólogo Ignacio Cano em entrevista à BBC News Brasil, lembra que o contexto de violência nos anos 1990 ainda era visto como um resquício da ditadura militar. Já a escalada de violência vivida hoje provoca maior desalento pelos avanços que se perderam pelo caminho, com \"uma regressão muito profunda de 2013 para cá\" após um período de melhoras nos índices criminais.\n",
        "\n",
        "A partir dos dados abertos disponibilizados pelo Governo do Rio de Janeiro segundo registros da Polícia Militar, será realizado um breve estudo dos crimes na cidade e análises que forem pertinentes."
      ]
    },
    {
      "cell_type": "markdown",
      "metadata": {
        "id": "7vh4at0l90nr",
        "colab_type": "text"
      },
      "source": [
        "### Obtenção dos dados\n",
        "\n",
        "Importanto as bibliotecas necessárias e criando um DataFrame."
      ]
    },
    {
      "cell_type": "code",
      "metadata": {
        "id": "CYLNme_OCX_R",
        "colab_type": "code",
        "colab": {}
      },
      "source": [
        "import pandas as pd\n",
        "import seaborn as sns\n",
        "\n",
        "df = pd.read_csv('https://raw.githubusercontent.com/carlosfab/curso_data_science_na_pratica/master/modulo_02/violencia_rio.csv')"
      ],
      "execution_count": 0,
      "outputs": []
    },
    {
      "cell_type": "code",
      "metadata": {
        "id": "_r-iYiSyT_8p",
        "colab_type": "code",
        "outputId": "ec1f61f9-b39e-405e-e779-67e3428ca9d2",
        "colab": {
          "base_uri": "https://localhost:8080/",
          "height": 1000
        }
      },
      "source": [
        "print('Tamanho do DataFrame: ',df.shape,);\n",
        "print('Nomes das colunas:\\n', df.dtypes);"
      ],
      "execution_count": 3,
      "outputs": [
        {
          "output_type": "stream",
          "text": [
            "Tamanho do DataFrame:  (344, 56)\n",
            "Nomes das colunas:\n",
            " vano                            int64\n",
            "mes                             int64\n",
            "hom_doloso                      int64\n",
            "lesao_corp_morte              float64\n",
            "latrocinio                      int64\n",
            "hom_por_interv_policial       float64\n",
            "tentat_hom                      int64\n",
            "lesao_corp_dolosa               int64\n",
            "estupro                       float64\n",
            "hom_culposo                   float64\n",
            "lesao_corp_culposa            float64\n",
            "roubo_comercio                  int64\n",
            "roubo_residencia                int64\n",
            "roubo_veiculo                   int64\n",
            "roubo_carga                     int64\n",
            "roubo_transeunte                int64\n",
            "roubo_em_coletivo               int64\n",
            "roubo_banco                     int64\n",
            "roubo_cx_eletronico           float64\n",
            "roubo_celular                 float64\n",
            "roubo_conducao_saque          float64\n",
            "roubo_apos_saque              float64\n",
            "roubo_bicicleta               float64\n",
            "outros_roubos                   int64\n",
            "total_roubos                    int64\n",
            "furto_veiculos                  int64\n",
            "furto_transeunte                int64\n",
            "furto_coletivo                float64\n",
            "furto_celular                 float64\n",
            "furto_bicicleta               float64\n",
            "outros_furtos                   int64\n",
            "total_furtos                    int64\n",
            "sequestro                     float64\n",
            "extorsao                      float64\n",
            "sequestro_relampago           float64\n",
            "estelionato                   float64\n",
            "apreensao_drogas                int64\n",
            "posse_drogas                  float64\n",
            "trafico_drogas                float64\n",
            "apreensao_drogas_sem_autor    float64\n",
            "recuperacao_veiculos            int64\n",
            "apf                           float64\n",
            "aaapai                        float64\n",
            "cmp                           float64\n",
            "cmba                          float64\n",
            "ameaca                        float64\n",
            "pessoas_desaparecidas         float64\n",
            "encontro_cadaver                int64\n",
            "encontro_ossada               float64\n",
            "pol_militares_mortos_serv     float64\n",
            "pol_civis_mortos_serv         float64\n",
            "indicador_letalidade            int64\n",
            "indicador_roubo_rua             int64\n",
            "indicador_roubo_veic            int64\n",
            "registro_ocorrencias          float64\n",
            "fase                            int64\n",
            "dtype: object\n"
          ],
          "name": "stdout"
        }
      ]
    },
    {
      "cell_type": "markdown",
      "metadata": {
        "id": "WUyIpl1yr7ah",
        "colab_type": "text"
      },
      "source": [
        "Verificando o formato do DataFrame"
      ]
    },
    {
      "cell_type": "code",
      "metadata": {
        "id": "9qVOiX3MXSnQ",
        "colab_type": "code",
        "outputId": "716392c2-94a1-468d-8849-4c062a008af6",
        "colab": {
          "base_uri": "https://localhost:8080/",
          "height": 226
        }
      },
      "source": [
        "df.head()"
      ],
      "execution_count": 4,
      "outputs": [
        {
          "output_type": "execute_result",
          "data": {
            "text/html": [
              "<div>\n",
              "<style scoped>\n",
              "    .dataframe tbody tr th:only-of-type {\n",
              "        vertical-align: middle;\n",
              "    }\n",
              "\n",
              "    .dataframe tbody tr th {\n",
              "        vertical-align: top;\n",
              "    }\n",
              "\n",
              "    .dataframe thead th {\n",
              "        text-align: right;\n",
              "    }\n",
              "</style>\n",
              "<table border=\"1\" class=\"dataframe\">\n",
              "  <thead>\n",
              "    <tr style=\"text-align: right;\">\n",
              "      <th></th>\n",
              "      <th>vano</th>\n",
              "      <th>mes</th>\n",
              "      <th>hom_doloso</th>\n",
              "      <th>lesao_corp_morte</th>\n",
              "      <th>latrocinio</th>\n",
              "      <th>hom_por_interv_policial</th>\n",
              "      <th>tentat_hom</th>\n",
              "      <th>lesao_corp_dolosa</th>\n",
              "      <th>estupro</th>\n",
              "      <th>hom_culposo</th>\n",
              "      <th>lesao_corp_culposa</th>\n",
              "      <th>roubo_comercio</th>\n",
              "      <th>roubo_residencia</th>\n",
              "      <th>roubo_veiculo</th>\n",
              "      <th>roubo_carga</th>\n",
              "      <th>roubo_transeunte</th>\n",
              "      <th>roubo_em_coletivo</th>\n",
              "      <th>roubo_banco</th>\n",
              "      <th>roubo_cx_eletronico</th>\n",
              "      <th>roubo_celular</th>\n",
              "      <th>roubo_conducao_saque</th>\n",
              "      <th>roubo_apos_saque</th>\n",
              "      <th>roubo_bicicleta</th>\n",
              "      <th>outros_roubos</th>\n",
              "      <th>total_roubos</th>\n",
              "      <th>furto_veiculos</th>\n",
              "      <th>furto_transeunte</th>\n",
              "      <th>furto_coletivo</th>\n",
              "      <th>furto_celular</th>\n",
              "      <th>furto_bicicleta</th>\n",
              "      <th>outros_furtos</th>\n",
              "      <th>total_furtos</th>\n",
              "      <th>sequestro</th>\n",
              "      <th>extorsao</th>\n",
              "      <th>sequestro_relampago</th>\n",
              "      <th>estelionato</th>\n",
              "      <th>apreensao_drogas</th>\n",
              "      <th>posse_drogas</th>\n",
              "      <th>trafico_drogas</th>\n",
              "      <th>apreensao_drogas_sem_autor</th>\n",
              "      <th>recuperacao_veiculos</th>\n",
              "      <th>apf</th>\n",
              "      <th>aaapai</th>\n",
              "      <th>cmp</th>\n",
              "      <th>cmba</th>\n",
              "      <th>ameaca</th>\n",
              "      <th>pessoas_desaparecidas</th>\n",
              "      <th>encontro_cadaver</th>\n",
              "      <th>encontro_ossada</th>\n",
              "      <th>pol_militares_mortos_serv</th>\n",
              "      <th>pol_civis_mortos_serv</th>\n",
              "      <th>indicador_letalidade</th>\n",
              "      <th>indicador_roubo_rua</th>\n",
              "      <th>indicador_roubo_veic</th>\n",
              "      <th>registro_ocorrencias</th>\n",
              "      <th>fase</th>\n",
              "    </tr>\n",
              "  </thead>\n",
              "  <tbody>\n",
              "    <tr>\n",
              "      <th>0</th>\n",
              "      <td>1991</td>\n",
              "      <td>1</td>\n",
              "      <td>657</td>\n",
              "      <td>NaN</td>\n",
              "      <td>15</td>\n",
              "      <td>NaN</td>\n",
              "      <td>162</td>\n",
              "      <td>3051</td>\n",
              "      <td>NaN</td>\n",
              "      <td>NaN</td>\n",
              "      <td>NaN</td>\n",
              "      <td>350</td>\n",
              "      <td>188</td>\n",
              "      <td>1174</td>\n",
              "      <td>63</td>\n",
              "      <td>967</td>\n",
              "      <td>381</td>\n",
              "      <td>37</td>\n",
              "      <td>NaN</td>\n",
              "      <td>NaN</td>\n",
              "      <td>NaN</td>\n",
              "      <td>NaN</td>\n",
              "      <td>NaN</td>\n",
              "      <td>158</td>\n",
              "      <td>3318</td>\n",
              "      <td>2009</td>\n",
              "      <td>1147</td>\n",
              "      <td>NaN</td>\n",
              "      <td>NaN</td>\n",
              "      <td>NaN</td>\n",
              "      <td>3561</td>\n",
              "      <td>6717</td>\n",
              "      <td>NaN</td>\n",
              "      <td>NaN</td>\n",
              "      <td>NaN</td>\n",
              "      <td>NaN</td>\n",
              "      <td>133</td>\n",
              "      <td>NaN</td>\n",
              "      <td>NaN</td>\n",
              "      <td>NaN</td>\n",
              "      <td>872</td>\n",
              "      <td>NaN</td>\n",
              "      <td>NaN</td>\n",
              "      <td>NaN</td>\n",
              "      <td>NaN</td>\n",
              "      <td>NaN</td>\n",
              "      <td>NaN</td>\n",
              "      <td>217</td>\n",
              "      <td>NaN</td>\n",
              "      <td>NaN</td>\n",
              "      <td>NaN</td>\n",
              "      <td>672</td>\n",
              "      <td>1348</td>\n",
              "      <td>1174</td>\n",
              "      <td>NaN</td>\n",
              "      <td>3</td>\n",
              "    </tr>\n",
              "    <tr>\n",
              "      <th>1</th>\n",
              "      <td>1991</td>\n",
              "      <td>2</td>\n",
              "      <td>732</td>\n",
              "      <td>NaN</td>\n",
              "      <td>17</td>\n",
              "      <td>NaN</td>\n",
              "      <td>175</td>\n",
              "      <td>3421</td>\n",
              "      <td>NaN</td>\n",
              "      <td>NaN</td>\n",
              "      <td>NaN</td>\n",
              "      <td>357</td>\n",
              "      <td>171</td>\n",
              "      <td>1097</td>\n",
              "      <td>64</td>\n",
              "      <td>963</td>\n",
              "      <td>432</td>\n",
              "      <td>35</td>\n",
              "      <td>NaN</td>\n",
              "      <td>NaN</td>\n",
              "      <td>NaN</td>\n",
              "      <td>NaN</td>\n",
              "      <td>NaN</td>\n",
              "      <td>142</td>\n",
              "      <td>3261</td>\n",
              "      <td>1850</td>\n",
              "      <td>1066</td>\n",
              "      <td>NaN</td>\n",
              "      <td>NaN</td>\n",
              "      <td>NaN</td>\n",
              "      <td>3309</td>\n",
              "      <td>6225</td>\n",
              "      <td>NaN</td>\n",
              "      <td>NaN</td>\n",
              "      <td>NaN</td>\n",
              "      <td>NaN</td>\n",
              "      <td>127</td>\n",
              "      <td>NaN</td>\n",
              "      <td>NaN</td>\n",
              "      <td>NaN</td>\n",
              "      <td>751</td>\n",
              "      <td>NaN</td>\n",
              "      <td>NaN</td>\n",
              "      <td>NaN</td>\n",
              "      <td>NaN</td>\n",
              "      <td>NaN</td>\n",
              "      <td>NaN</td>\n",
              "      <td>209</td>\n",
              "      <td>NaN</td>\n",
              "      <td>NaN</td>\n",
              "      <td>NaN</td>\n",
              "      <td>749</td>\n",
              "      <td>1395</td>\n",
              "      <td>1097</td>\n",
              "      <td>NaN</td>\n",
              "      <td>3</td>\n",
              "    </tr>\n",
              "    <tr>\n",
              "      <th>2</th>\n",
              "      <td>1991</td>\n",
              "      <td>3</td>\n",
              "      <td>713</td>\n",
              "      <td>NaN</td>\n",
              "      <td>25</td>\n",
              "      <td>NaN</td>\n",
              "      <td>216</td>\n",
              "      <td>3613</td>\n",
              "      <td>NaN</td>\n",
              "      <td>NaN</td>\n",
              "      <td>NaN</td>\n",
              "      <td>443</td>\n",
              "      <td>191</td>\n",
              "      <td>1265</td>\n",
              "      <td>71</td>\n",
              "      <td>963</td>\n",
              "      <td>422</td>\n",
              "      <td>43</td>\n",
              "      <td>NaN</td>\n",
              "      <td>NaN</td>\n",
              "      <td>NaN</td>\n",
              "      <td>NaN</td>\n",
              "      <td>NaN</td>\n",
              "      <td>131</td>\n",
              "      <td>3529</td>\n",
              "      <td>2084</td>\n",
              "      <td>1062</td>\n",
              "      <td>NaN</td>\n",
              "      <td>NaN</td>\n",
              "      <td>NaN</td>\n",
              "      <td>3573</td>\n",
              "      <td>6719</td>\n",
              "      <td>NaN</td>\n",
              "      <td>NaN</td>\n",
              "      <td>NaN</td>\n",
              "      <td>NaN</td>\n",
              "      <td>80</td>\n",
              "      <td>NaN</td>\n",
              "      <td>NaN</td>\n",
              "      <td>NaN</td>\n",
              "      <td>789</td>\n",
              "      <td>NaN</td>\n",
              "      <td>NaN</td>\n",
              "      <td>NaN</td>\n",
              "      <td>NaN</td>\n",
              "      <td>NaN</td>\n",
              "      <td>NaN</td>\n",
              "      <td>188</td>\n",
              "      <td>NaN</td>\n",
              "      <td>NaN</td>\n",
              "      <td>NaN</td>\n",
              "      <td>738</td>\n",
              "      <td>1385</td>\n",
              "      <td>1265</td>\n",
              "      <td>NaN</td>\n",
              "      <td>3</td>\n",
              "    </tr>\n",
              "    <tr>\n",
              "      <th>3</th>\n",
              "      <td>1991</td>\n",
              "      <td>4</td>\n",
              "      <td>634</td>\n",
              "      <td>NaN</td>\n",
              "      <td>20</td>\n",
              "      <td>NaN</td>\n",
              "      <td>200</td>\n",
              "      <td>3211</td>\n",
              "      <td>NaN</td>\n",
              "      <td>NaN</td>\n",
              "      <td>NaN</td>\n",
              "      <td>425</td>\n",
              "      <td>199</td>\n",
              "      <td>1415</td>\n",
              "      <td>81</td>\n",
              "      <td>1186</td>\n",
              "      <td>354</td>\n",
              "      <td>36</td>\n",
              "      <td>NaN</td>\n",
              "      <td>NaN</td>\n",
              "      <td>NaN</td>\n",
              "      <td>NaN</td>\n",
              "      <td>NaN</td>\n",
              "      <td>112</td>\n",
              "      <td>3808</td>\n",
              "      <td>2085</td>\n",
              "      <td>1195</td>\n",
              "      <td>NaN</td>\n",
              "      <td>NaN</td>\n",
              "      <td>NaN</td>\n",
              "      <td>3290</td>\n",
              "      <td>6570</td>\n",
              "      <td>NaN</td>\n",
              "      <td>NaN</td>\n",
              "      <td>NaN</td>\n",
              "      <td>NaN</td>\n",
              "      <td>133</td>\n",
              "      <td>NaN</td>\n",
              "      <td>NaN</td>\n",
              "      <td>NaN</td>\n",
              "      <td>787</td>\n",
              "      <td>NaN</td>\n",
              "      <td>NaN</td>\n",
              "      <td>NaN</td>\n",
              "      <td>NaN</td>\n",
              "      <td>NaN</td>\n",
              "      <td>NaN</td>\n",
              "      <td>140</td>\n",
              "      <td>NaN</td>\n",
              "      <td>NaN</td>\n",
              "      <td>NaN</td>\n",
              "      <td>654</td>\n",
              "      <td>1540</td>\n",
              "      <td>1415</td>\n",
              "      <td>NaN</td>\n",
              "      <td>3</td>\n",
              "    </tr>\n",
              "    <tr>\n",
              "      <th>4</th>\n",
              "      <td>1991</td>\n",
              "      <td>5</td>\n",
              "      <td>650</td>\n",
              "      <td>NaN</td>\n",
              "      <td>20</td>\n",
              "      <td>NaN</td>\n",
              "      <td>146</td>\n",
              "      <td>3051</td>\n",
              "      <td>NaN</td>\n",
              "      <td>NaN</td>\n",
              "      <td>NaN</td>\n",
              "      <td>553</td>\n",
              "      <td>231</td>\n",
              "      <td>1449</td>\n",
              "      <td>82</td>\n",
              "      <td>931</td>\n",
              "      <td>335</td>\n",
              "      <td>27</td>\n",
              "      <td>NaN</td>\n",
              "      <td>NaN</td>\n",
              "      <td>NaN</td>\n",
              "      <td>NaN</td>\n",
              "      <td>NaN</td>\n",
              "      <td>147</td>\n",
              "      <td>3755</td>\n",
              "      <td>2185</td>\n",
              "      <td>723</td>\n",
              "      <td>NaN</td>\n",
              "      <td>NaN</td>\n",
              "      <td>NaN</td>\n",
              "      <td>3546</td>\n",
              "      <td>6454</td>\n",
              "      <td>NaN</td>\n",
              "      <td>NaN</td>\n",
              "      <td>NaN</td>\n",
              "      <td>NaN</td>\n",
              "      <td>163</td>\n",
              "      <td>NaN</td>\n",
              "      <td>NaN</td>\n",
              "      <td>NaN</td>\n",
              "      <td>845</td>\n",
              "      <td>NaN</td>\n",
              "      <td>NaN</td>\n",
              "      <td>NaN</td>\n",
              "      <td>NaN</td>\n",
              "      <td>NaN</td>\n",
              "      <td>NaN</td>\n",
              "      <td>78</td>\n",
              "      <td>NaN</td>\n",
              "      <td>NaN</td>\n",
              "      <td>NaN</td>\n",
              "      <td>670</td>\n",
              "      <td>1266</td>\n",
              "      <td>1449</td>\n",
              "      <td>NaN</td>\n",
              "      <td>3</td>\n",
              "    </tr>\n",
              "  </tbody>\n",
              "</table>\n",
              "</div>"
            ],
            "text/plain": [
              "   vano  mes  hom_doloso  ...  indicador_roubo_veic  registro_ocorrencias  fase\n",
              "0  1991    1         657  ...                  1174                   NaN     3\n",
              "1  1991    2         732  ...                  1097                   NaN     3\n",
              "2  1991    3         713  ...                  1265                   NaN     3\n",
              "3  1991    4         634  ...                  1415                   NaN     3\n",
              "4  1991    5         650  ...                  1449                   NaN     3\n",
              "\n",
              "[5 rows x 56 columns]"
            ]
          },
          "metadata": {
            "tags": []
          },
          "execution_count": 4
        }
      ]
    },
    {
      "cell_type": "markdown",
      "metadata": {
        "id": "rDJPY9wDsGb6",
        "colab_type": "text"
      },
      "source": [
        "Verificando a porcentagem de valores nulos (NaN)"
      ]
    },
    {
      "cell_type": "code",
      "metadata": {
        "id": "_BSjRbEKXW5r",
        "colab_type": "code",
        "outputId": "391e4f57-326d-48da-e0bd-5994f468bab3",
        "colab": {
          "base_uri": "https://localhost:8080/",
          "height": 1000
        }
      },
      "source": [
        "(df.isnull().sum() / df.shape[0] ) *100"
      ],
      "execution_count": 5,
      "outputs": [
        {
          "output_type": "execute_result",
          "data": {
            "text/plain": [
              "vano                           0.000000\n",
              "mes                            0.000000\n",
              "hom_doloso                     0.000000\n",
              "lesao_corp_morte              27.906977\n",
              "latrocinio                     0.000000\n",
              "hom_por_interv_policial       24.418605\n",
              "tentat_hom                     0.000000\n",
              "lesao_corp_dolosa              0.000000\n",
              "estupro                       41.860465\n",
              "hom_culposo                   24.418605\n",
              "lesao_corp_culposa            27.906977\n",
              "roubo_comercio                 0.000000\n",
              "roubo_residencia               0.000000\n",
              "roubo_veiculo                  0.000000\n",
              "roubo_carga                    0.000000\n",
              "roubo_transeunte               0.000000\n",
              "roubo_em_coletivo              0.000000\n",
              "roubo_banco                    0.000000\n",
              "roubo_cx_eletronico           41.860465\n",
              "roubo_celular                 31.395349\n",
              "roubo_conducao_saque          41.860465\n",
              "roubo_apos_saque              41.860465\n",
              "roubo_bicicleta               80.232558\n",
              "outros_roubos                  0.000000\n",
              "total_roubos                   0.000000\n",
              "furto_veiculos                 0.000000\n",
              "furto_transeunte               0.000000\n",
              "furto_coletivo                41.860465\n",
              "furto_celular                 41.860465\n",
              "furto_bicicleta               80.232558\n",
              "outros_furtos                  0.000000\n",
              "total_furtos                   0.000000\n",
              "sequestro                     27.906977\n",
              "extorsao                      41.860465\n",
              "sequestro_relampago           41.860465\n",
              "estelionato                   41.860465\n",
              "apreensao_drogas               0.000000\n",
              "posse_drogas                  52.325581\n",
              "trafico_drogas                52.325581\n",
              "apreensao_drogas_sem_autor    52.325581\n",
              "recuperacao_veiculos           0.000000\n",
              "apf                           52.325581\n",
              "aaapai                        52.325581\n",
              "cmp                           52.325581\n",
              "cmba                          52.325581\n",
              "ameaca                        27.906977\n",
              "pessoas_desaparecidas         38.372093\n",
              "encontro_cadaver               0.000000\n",
              "encontro_ossada               38.372093\n",
              "pol_militares_mortos_serv     41.860465\n",
              "pol_civis_mortos_serv         41.860465\n",
              "indicador_letalidade           0.000000\n",
              "indicador_roubo_rua            0.000000\n",
              "indicador_roubo_veic           0.000000\n",
              "registro_ocorrencias          27.906977\n",
              "fase                           0.000000\n",
              "dtype: float64"
            ]
          },
          "metadata": {
            "tags": []
          },
          "execution_count": 5
        }
      ]
    },
    {
      "cell_type": "markdown",
      "metadata": {
        "id": "8Bl35KjFyHm-",
        "colab_type": "text"
      },
      "source": [
        "###Tratamento dos dados"
      ]
    },
    {
      "cell_type": "code",
      "metadata": {
        "id": "PCI5dX4IyOfv",
        "colab_type": "code",
        "outputId": "659781c9-2587-4c58-8120-db3e8cb16e19",
        "colab": {
          "base_uri": "https://localhost:8080/",
          "height": 36
        }
      },
      "source": [
        "df.drop(['apf','aaapai','cmp','cmba'], axis=1,inplace=True)\n",
        "df.shape"
      ],
      "execution_count": 6,
      "outputs": [
        {
          "output_type": "execute_result",
          "data": {
            "text/plain": [
              "(344, 52)"
            ]
          },
          "metadata": {
            "tags": []
          },
          "execution_count": 6
        }
      ]
    },
    {
      "cell_type": "markdown",
      "metadata": {
        "id": "G6dnsNYm-41g",
        "colab_type": "text"
      },
      "source": [
        "###Informações Estatísticas da Violência no Rio de Janeiro\n",
        "\n"
      ]
    },
    {
      "cell_type": "code",
      "metadata": {
        "id": "tQltvoeBeu7y",
        "colab_type": "code",
        "outputId": "5a19ed00-33b0-4dbc-c226-e5ca3029bcac",
        "colab": {
          "base_uri": "https://localhost:8080/",
          "height": 242
        }
      },
      "source": [
        "print('Resumo estatístico:\\n', df.describe())"
      ],
      "execution_count": 7,
      "outputs": [
        {
          "output_type": "stream",
          "text": [
            "Resumo estatístico:\n",
            "               vano         mes  ...  registro_ocorrencias        fase\n",
            "count   344.000000  344.000000  ...            248.000000  344.000000\n",
            "mean   2004.837209    6.453488  ...          53794.161290    2.994186\n",
            "std       8.289036    3.447759  ...          11039.051992    0.076138\n",
            "min    1991.000000    1.000000  ...          30621.000000    2.000000\n",
            "25%    1998.000000    3.000000  ...          45374.500000    3.000000\n",
            "50%    2005.000000    6.000000  ...          54926.500000    3.000000\n",
            "75%    2012.000000    9.000000  ...          63292.500000    3.000000\n",
            "max    2019.000000   12.000000  ...          75403.000000    3.000000\n",
            "\n",
            "[8 rows x 52 columns]\n"
          ],
          "name": "stdout"
        }
      ]
    },
    {
      "cell_type": "code",
      "metadata": {
        "id": "7uF59Sz-frV1",
        "colab_type": "code",
        "outputId": "0ccf8846-ef7d-43cf-ef80-1d0be9acdb0c",
        "colab": {
          "base_uri": "https://localhost:8080/",
          "height": 73
        }
      },
      "source": [
        "print(\" A média de veículos roubados é: {0:.2f} por mês\".format(df.roubo_veiculo.mean()))\n",
        "print(\" A média de veículos furtados é: {0:.2f} por mês\".format(df.furto_veiculos.mean()))\n",
        "print(\" A média de recuperação dos veículos é: {0:.2f} por mês\".format(df.recuperacao_veiculos.mean()))"
      ],
      "execution_count": 8,
      "outputs": [
        {
          "output_type": "stream",
          "text": [
            " A média de veículos roubados é: 2448.70 por mês\n",
            " A média de veículos furtados é: 1674.67 por mês\n",
            " A média de recuperação dos veículos é: 1772.24 por mês\n"
          ],
          "name": "stdout"
        }
      ]
    },
    {
      "cell_type": "code",
      "metadata": {
        "id": "sdLgEljXSKZ-",
        "colab_type": "code",
        "outputId": "8aa142f1-8de6-41cd-9b7c-e9b20263efd9",
        "colab": {
          "base_uri": "https://localhost:8080/",
          "height": 36
        }
      },
      "source": [
        "taxa_recupera = df.recuperacao_veiculos.mean()/ (df.roubo_veiculo.mean() + df.furto_veiculos.mean() )\n",
        "print(\"%.2f\"% taxa_recupera)"
      ],
      "execution_count": 9,
      "outputs": [
        {
          "output_type": "stream",
          "text": [
            "0.43\n"
          ],
          "name": "stdout"
        }
      ]
    },
    {
      "cell_type": "code",
      "metadata": {
        "id": "wYPQqqiQVXtV",
        "colab_type": "code",
        "outputId": "c08b09a7-c0d1-4985-92ce-5a0eecea318b",
        "colab": {
          "base_uri": "https://localhost:8080/",
          "height": 54
        }
      },
      "source": [
        "print('O número mínimo de homicídios dolosos é de {}'.format(df.hom_doloso.min()))\n",
        "print('O número máximo de homicídios dolosos é de {}'.format(df.hom_doloso.max()))"
      ],
      "execution_count": 10,
      "outputs": [
        {
          "output_type": "stream",
          "text": [
            "O número mínimo de homicídios dolosos é de 272\n",
            "O número máximo de homicídios dolosos é de 831\n"
          ],
          "name": "stdout"
        }
      ]
    },
    {
      "cell_type": "markdown",
      "metadata": {
        "id": "7WK0NBQZASKC",
        "colab_type": "text"
      },
      "source": [
        "###Visualização de Dados\n"
      ]
    },
    {
      "cell_type": "code",
      "metadata": {
        "id": "romz4L_2u6Xt",
        "colab_type": "code",
        "colab": {
          "base_uri": "https://localhost:8080/",
          "height": 265
        },
        "outputId": "7627d9b3-6805-49e1-ffa9-890bf418d06f"
      },
      "source": [
        "df.hom_doloso.hist();\n",
        "df.hom_culposo.hist();"
      ],
      "execution_count": 14,
      "outputs": [
        {
          "output_type": "display_data",
          "data": {
            "image/png": "[encoded data removed]",
            "text/plain": [
              "<Figure size 432x288 with 1 Axes>"
            ]
          },
          "metadata": {
            "tags": []
          }
        }
      ]
    },
    {
      "cell_type": "markdown",
      "metadata": {
        "id": "wXOAAM8l3VZ4",
        "colab_type": "text"
      },
      "source": [
        "Dentro dos respectivos períodos analisados, os histogramas se comportam da mesma forma:variáveis centradas na média mas com alguns períodos em que o número de ocorrências é elevado."
      ]
    },
    {
      "cell_type": "code",
      "metadata": {
        "id": "2Cs20MQUvMoy",
        "colab_type": "code",
        "colab": {
          "base_uri": "https://localhost:8080/",
          "height": 265
        },
        "outputId": "528f6b99-1596-44ac-94a0-9be8b0586dcd"
      },
      "source": [
        "df.estupro.plot(kind='line');"
      ],
      "execution_count": 13,
      "outputs": [
        {
          "output_type": "display_data",
          "data": {
            "image/png": "[encoded data removed]",
            "text/plain": [
              "<Figure size 432x288 with 1 Axes>"
            ]
          },
          "metadata": {
            "tags": []
          }
        }
      ]
    },
    {
      "cell_type": "markdown",
      "metadata": {
        "id": "QrgfT5sW3zHt",
        "colab_type": "text"
      },
      "source": [
        "O número de ocorrências de crimes de estupro têm apresentado uma tendência de crescimento."
      ]
    }
  ]
}